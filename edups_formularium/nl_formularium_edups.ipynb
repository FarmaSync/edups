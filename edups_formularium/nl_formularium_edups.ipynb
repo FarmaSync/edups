{
 "cells": [
  {
   "cell_type": "code",
   "execution_count": 203,
   "metadata": {},
   "outputs": [],
   "source": [
    "import pandas as pd\n",
    "import re"
   ]
  },
  {
   "cell_type": "code",
   "execution_count": 199,
   "metadata": {},
   "outputs": [],
   "source": [
    "# Load the provided file\n",
    "file_path = 'source_file_GIB.csv'\n",
    "data = pd.read_csv(file_path, delimiter='|')"
   ]
  },
  {
   "cell_type": "code",
   "execution_count": 200,
   "metadata": {},
   "outputs": [],
   "source": [
    "# Function to extract various strength formats, including concentrations, percentages, and ratios\n",
    "def optimized_extract_strength(product_name):    \n",
    "    units = r'mg|miligram|g|gram|ml|mililiter|µg|microgram|IE|internationale eenheden|eenheden|SQ-E|anti-Xa-eenheden|dosis|ME|uur|%|miljoen internationale eenheden|mmol|mol|l|liter|Bq|MBq|SQ-T|DU|AU|Allerganeenheden'\n",
    "    \n",
    "    match=re.search(rf'(\\d+([.,]?)\\d*)(\\/\\d+([.,]?)\\d*)*\\s?({units})\\s?(\\/\\s?\\d*([.,]?)\\d*\\s?({units}))*',product_name, re.IGNORECASE)\n",
    "\n",
    "\n",
    "    if match:\n",
    "        return match.group(0).strip()  # Clean up any extra spaces\n",
    "    else:\n",
    "        return None\n",
    "# Apply the optimized function to extract strength from PRODUCTNAAM\n",
    "data['STERKTE'] = data.apply(\n",
    "    lambda row: optimized_extract_strength(row['PRODUCTNAAM']),\n",
    "    axis=1\n",
    ")\n",
    "\n"
   ]
  },
  {
   "cell_type": "code",
   "execution_count": 201,
   "metadata": {},
   "outputs": [],
   "source": [
    "data['WERKZAMESTOFFEN_CLEAN'] = data['WERKZAMESTOFFEN'].replace(r'#','/', regex=True)\n",
    "\n",
    "\n",
    "# Define a list of common salts and hydration terms in Dutch\n",
    "common_salts_dutch = [\"(di)?hydrochloride\", \"nitraat\", \"fosfaat\", \"natrium\", \"kalium\", \"calcium\", \"magnesium\",\n",
    "                      \"sulfaat\", \"tartraat\", \"mesilaat\", \"acetaat\", \"fumaraat\", \"malaat\", \"chloride\", \n",
    "                      \"bromide\", \"succinaat\", \"mesylaat\",\"propionaat\",'xinafoaat',\"butiraat\",\"butyraat\", \"bes[iy]laat\",\"arginine\",\n",
    "                      \"(un)?decanoaat\", \"maleaat\", \"citraat\",\"diwaterstof\", \"valeraat\", \"lactobionaat\",\"benzoaat\",\n",
    "                      \"(-)?(TERT)?(-)?BUTYLAMINE\", \"CILEXETIL\", \"PROPYLEENGLYCOLAAT\", \"etexilaat\", \"carbonaat\",\n",
    "                      \"oxalaat\", \"--\"\n",
    "                      ]\n",
    "\n",
    "# Exclusion list for words/phrases you want to keep intact\n",
    "exclusion_list = set([\"carbasalaatcalcium\"])\n",
    "\n",
    "# Compile the regex pattern for salts\n",
    "salt_pattern = re.compile(r'(' + '|(di|hydro|X-|waterstof)?'.join(common_salts_dutch) + r')', re.IGNORECASE)\n",
    "\n",
    "# Regex to match numbers followed by '-water'\n",
    "water_pattern = re.compile(r'((\\d+([.,]?)\\d*)|n|X)-water', re.IGNORECASE)\n",
    "\n",
    "# Generalized function to remove unwanted patterns (salts and '-water') while respecting the exclusion list\n",
    "def clean_ingredient(ingredient):\n",
    "    word = ingredient#.split()\n",
    "    \n",
    "    cleaned_words = []\n",
    "\n",
    "    word_lower = word.lower()  # Use lowercase for exclusion comparison\n",
    "        \n",
    "    if word_lower in exclusion_list:\n",
    "        cleaned_words.append(word)  # Skip cleaning for excluded words\n",
    "    else:\n",
    "        # Remove salts and '-water' patterns\n",
    "        cleaned_word = salt_pattern.sub('', word)\n",
    "        cleaned_word = water_pattern.sub('', cleaned_word)\n",
    "        cleaned_words.append(cleaned_word.strip())  # Add the cleaned word\n",
    "    \n",
    "    return ' '.join(cleaned_words).strip()\n",
    "\n",
    "\n",
    "# Apply the function to remove salts and hydration terms\n",
    "data['WERKZAMESTOFFEN_CLEAN'] = data['WERKZAMESTOFFEN_CLEAN'].fillna('').apply(clean_ingredient)\n",
    "\n"
   ]
  },
  {
   "cell_type": "code",
   "execution_count": 202,
   "metadata": {},
   "outputs": [],
   "source": [
    "data['FARMACEUTISCHEVORM_CLEAN'] = data['FARMACEUTISCHEVORM'].fillna(\"\").apply(lambda x: x.split(',')[0].strip())\n"
   ]
  },
  {
   "cell_type": "code",
   "execution_count": 205,
   "metadata": {},
   "outputs": [],
   "source": [
    "data['PRESCRIBING_PRODUCT'] = data['WERKZAMESTOFFEN_CLEAN'].fillna(\"\") + \" - \" + data['STERKTE'].fillna(\"\") + \" - \" + data['FARMACEUTISCHEVORM_CLEAN'].fillna(\"\")\n",
    "\n",
    "\n",
    "temp= data[['PRESCRIBING_PRODUCT','PRODUCTNAAM',\"STERKTE\", 'WERKZAMESTOFFEN_CLEAN', 'FARMACEUTISCHEVORM_CLEAN']]"
   ]
  },
  {
   "cell_type": "code",
   "execution_count": 211,
   "metadata": {},
   "outputs": [],
   "source": [
    "#Drop duplicates, based on handelsproduct\n",
    "data = data.drop_duplicates(subset=['PRODUCTNAAM'], keep='first')\n"
   ]
  },
  {
   "cell_type": "code",
   "execution_count": 212,
   "metadata": {},
   "outputs": [
    {
     "data": {
      "text/plain": [
       "'edups_formularium_concept.csv'"
      ]
     },
     "execution_count": 212,
     "metadata": {},
     "output_type": "execute_result"
    }
   ],
   "source": [
    "# Export the updated dataset\n",
    "export_path = 'edups_formularium_concept.csv'\n",
    "data[['PRESCRIBING_PRODUCT','PRODUCTNAAM',\"STERKTE\", 'WERKZAMESTOFFEN_CLEAN', 'FARMACEUTISCHEVORM', 'AFLEVERSTATUS']].to_csv(export_path, index=False, sep=';',encoding='utf-8-sig')\n",
    "\n",
    "# Provide the path for downloading the new file\n",
    "export_path\n"
   ]
  }
 ],
 "metadata": {
  "kernelspec": {
   "display_name": "Python 3",
   "language": "python",
   "name": "python3"
  },
  "language_info": {
   "codemirror_mode": {
    "name": "ipython",
    "version": 3
   },
   "file_extension": ".py",
   "mimetype": "text/x-python",
   "name": "python",
   "nbconvert_exporter": "python",
   "pygments_lexer": "ipython3",
   "version": "3.10.4"
  }
 },
 "nbformat": 4,
 "nbformat_minor": 2
}
